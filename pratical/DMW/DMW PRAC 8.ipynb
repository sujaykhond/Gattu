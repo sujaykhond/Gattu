{
 "cells": [
  {
   "cell_type": "code",
   "execution_count": 1,
   "id": "04ecb607",
   "metadata": {},
   "outputs": [],
   "source": [
    "from mlxtend.frequent_patterns import apriori"
   ]
  },
  {
   "cell_type": "code",
   "execution_count": 2,
   "id": "c1232555",
   "metadata": {},
   "outputs": [],
   "source": [
    "from mlxtend.frequent_patterns import association_rules"
   ]
  },
  {
   "cell_type": "code",
   "execution_count": 3,
   "id": "f5726f33",
   "metadata": {},
   "outputs": [],
   "source": [
    "import pandas as pd"
   ]
  },
  {
   "cell_type": "code",
   "execution_count": 4,
   "id": "95fa1554",
   "metadata": {},
   "outputs": [],
   "source": [
    "import matplotlib.pyplot as plt"
   ]
  },
  {
   "cell_type": "code",
   "execution_count": 5,
   "id": "ed3a56a2",
   "metadata": {},
   "outputs": [],
   "source": [
    "dataset=[['Milk','Onion','Nutmeg','Kidney Beans','Eggs','Yogurt'],\n",
    " ['Dill','Onion','Nutmeg','Kidney Beans','Eggs','Yogurt'],\n",
    " ['Milk','Apple','Kidney Beans','Eggs'],\n",
    " ['Milk','Unicorn','Corn','Kidney Beans','Yogurt'],\n",
    " ['Corn','Onion','Onion','Kidney Beans','Ice cream','Eggs']]"
   ]
  },
  {
   "cell_type": "code",
   "execution_count": 6,
   "id": "aa06ac11",
   "metadata": {},
   "outputs": [],
   "source": [
    "df=pd.DataFrame(dataset)"
   ]
  },
  {
   "cell_type": "code",
   "execution_count": 7,
   "id": "34d881f3",
   "metadata": {},
   "outputs": [],
   "source": [
    "encoded_df=pd.get_dummies(df.apply(lambda x:pd.Series(x)),\n",
    " prefix='',prefix_sep='')"
   ]
  },
  {
   "cell_type": "code",
   "execution_count": 12,
   "id": "015500c8",
   "metadata": {},
   "outputs": [
    {
     "name": "stderr",
     "output_type": "stream",
     "text": [
      "C:\\Users\\SUJAY KHOND\\AppData\\Roaming\\Python\\Python310\\site-packages\\mlxtend\\frequent_patterns\\fpcommon.py:109: DeprecationWarning: DataFrames with non-bool types result in worse computationalperformance and their support might be discontinued in the future.Please use a DataFrame with bool type\n",
      "  warnings.warn(\n"
     ]
    }
   ],
   "source": [
    "frequent_itemsets=apriori(encoded_df,min_support=0.5,\n",
    "                          use_colnames=True)"
   ]
  },
  {
   "cell_type": "code",
   "execution_count": 9,
   "id": "fa22d17e",
   "metadata": {},
   "outputs": [],
   "source": [
    "rules=association_rules(frequent_itemsets,metric=\"confidence\",\n",
    " min_threshold=0.7)\n"
   ]
  },
  {
   "cell_type": "code",
   "execution_count": 10,
   "id": "4ebcd08c",
   "metadata": {},
   "outputs": [
    {
     "name": "stdout",
     "output_type": "stream",
     "text": [
      "Frequent Itemsets    support               itemsets\n",
      "0      0.6                 (Milk)\n",
      "1      0.6                (Onion)\n",
      "2      0.8         (Kidney Beans)\n",
      "3      0.6  (Kidney Beans, Onion)\n"
     ]
    }
   ],
   "source": [
    "print(\"Frequent Itemsets\",frequent_itemsets)"
   ]
  },
  {
   "cell_type": "code",
   "execution_count": 11,
   "id": "ccf283d4",
   "metadata": {},
   "outputs": [
    {
     "name": "stdout",
     "output_type": "stream",
     "text": [
      "\n",
      "Association Rules:\n",
      "      antecedents     consequents  antecedent support  consequent support  \\\n",
      "0  (Kidney Beans)         (Onion)                 0.8                 0.6   \n",
      "1         (Onion)  (Kidney Beans)                 0.6                 0.8   \n",
      "\n",
      "   support  confidence  lift  leverage  conviction  zhangs_metric  \n",
      "0      0.6        0.75  1.25      0.12         1.6            1.0  \n",
      "1      0.6        1.00  1.25      0.12         inf            0.5  \n"
     ]
    }
   ],
   "source": [
    "print(\"\\nAssociation Rules:\")\n",
    "print(rules)"
   ]
  },
  {
   "cell_type": "code",
   "execution_count": null,
   "id": "8ce2dc9b",
   "metadata": {},
   "outputs": [],
   "source": []
  }
 ],
 "metadata": {
  "kernelspec": {
   "display_name": "Python 3 (ipykernel)",
   "language": "python",
   "name": "python3"
  },
  "language_info": {
   "codemirror_mode": {
    "name": "ipython",
    "version": 3
   },
   "file_extension": ".py",
   "mimetype": "text/x-python",
   "name": "python",
   "nbconvert_exporter": "python",
   "pygments_lexer": "ipython3",
   "version": "3.10.9"
  }
 },
 "nbformat": 4,
 "nbformat_minor": 5
}

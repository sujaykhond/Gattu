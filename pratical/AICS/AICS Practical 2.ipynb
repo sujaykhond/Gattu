{
 "cells": [
  {
   "cell_type": "code",
   "execution_count": 1,
   "id": "81c0648a",
   "metadata": {},
   "outputs": [],
   "source": [
    "import pandas as pd\n",
    "import seaborn as sns\n",
    "import numpy as np\n",
    "from sklearn.preprocessing import LabelEncoder\n",
    "from sklearn.model_selection import KFold, cross_val_score\n",
    "from sklearn.model_selection import train_test_split\n",
    "from imblearn.under_sampling import RandomUnderSampler  \n",
    "from sklearn.metrics import confusion_matrix, roc_auc_score, classification_report, average_precision_score\n",
    "from sklearn.linear_model import LogisticRegression\n",
    "from sklearn.neighbors import KNeighborsClassifier\n",
    "from sklearn.ensemble import RandomForestClassifier\n",
    "from sklearn.ensemble import AdaBoostClassifier"
   ]
  },
  {
   "cell_type": "code",
   "execution_count": null,
   "id": "9db0d6ea",
   "metadata": {},
   "outputs": [],
   "source": [
    "date_columns = [\"Timestamp\"]\n",
    "df = pd.read_csv(\"ddos_dataset.csv\", parse_dates=date_columns,index_col=None)\n",
    "df.head()"
   ]
  },
  {
   "cell_type": "code",
   "execution_count": null,
   "id": "8f9d8ea0",
   "metadata": {},
   "outputs": [],
   "source": [
    "df.info()"
   ]
  },
  {
   "cell_type": "markdown",
   "id": "b78414ae",
   "metadata": {},
   "source": [
    "## Feature Extraction from `Flow ID` column"
   ]
  },
  {
   "cell_type": "code",
   "execution_count": null,
   "id": "485dc30b",
   "metadata": {},
   "outputs": [],
   "source": [
    "df[['Source', 'Destination', 'Source Port', 'Dest Port', 'Other']] = df['Flow ID'].str.split('-', expand=True)\n",
    "df.head()"
   ]
  },
  {
   "cell_type": "code",
   "execution_count": null,
   "id": "445d3fe7",
   "metadata": {},
   "outputs": [],
   "source": [
    "df = df.sort_values(\"Timestamp\")"
   ]
  },
  {
   "cell_type": "code",
   "execution_count": null,
   "id": "10ba4210",
   "metadata": {},
   "outputs": [],
   "source": [
    "# Dropping Timestamp and ports (not sure about the data for ports hence deleting for safety)\n",
    "df = df.drop(columns=[\"Timestamp\", \"Source Port\", \"Dest Port\", \"Other\"])\n",
    "df.head()"
   ]
  },
  {
   "cell_type": "markdown",
   "id": "03790c57",
   "metadata": {},
   "source": [
    "## Handling IP Addresses before using an ML model"
   ]
  },
  {
   "cell_type": "code",
   "execution_count": null,
   "id": "1dbbcabe",
   "metadata": {},
   "outputs": [],
   "source": [
    "df[['SourceIP_1', 'SourceIP_2', 'SourceIP_3', 'SourceIP_4']] = df.Source.str.split('.', expand=True)\n",
    "df[['DestinationIP_1', 'DestinationIP_2', 'DestinationIP_3', 'DestinationIP_4']] = df.Destination.str.split('.', expand=True)\n",
    "df = df.drop(columns=[\"Source\", \"Destination\", \"Flow ID\"])\n",
    "df.head()"
   ]
  },
  {
   "cell_type": "markdown",
   "id": "fc85d47e",
   "metadata": {},
   "source": [
    "## Checking for missing values"
   ]
  },
  {
   "cell_type": "code",
   "execution_count": null,
   "id": "e6bc7a43",
   "metadata": {},
   "outputs": [],
   "source": [
    "df.isna().sum()"
   ]
  },
  {
   "cell_type": "markdown",
   "id": "d2b75b5d",
   "metadata": {},
   "source": [
    "## Check for class imbalance"
   ]
  },
  {
   "cell_type": "code",
   "execution_count": null,
   "id": "3f6889aa",
   "metadata": {},
   "outputs": [],
   "source": [
    "sns.countplot(df['Label']);"
   ]
  },
  {
   "cell_type": "markdown",
   "id": "c344b240",
   "metadata": {},
   "source": [
    "## Encoding the target variable"
   ]
  },
  {
   "cell_type": "code",
   "execution_count": null,
   "id": "3bb6406c",
   "metadata": {},
   "outputs": [],
   "source": [
    "le = LabelEncoder()\n",
    "df['Label'] = le.fit_transform(df['Label'])\n",
    "df.head()"
   ]
  },
  {
   "cell_type": "markdown",
   "id": "fdf75f5c",
   "metadata": {},
   "source": [
    "## Performing Random Undersampling and splitting the dataset\n",
    "\n",
    "Since we have over 200K data points for the minority class, random undersampling is performed to get a balanced dataset."
   ]
  },
  {
   "cell_type": "code",
   "execution_count": null,
   "id": "f4bc6263",
   "metadata": {},
   "outputs": [],
   "source": [
    "X = df.drop('Label' , axis = 1)\n",
    "y = df['Label']\n",
    "RUS = RandomUnderSampler(random_state=42)\n",
    "X_rus, y_rus = RUS.fit_resample(X,y)"
   ]
  },
  {
   "cell_type": "markdown",
   "id": "cbae1d1a",
   "metadata": {},
   "source": [
    "## Splitting the dataset"
   ]
  },
  {
   "cell_type": "code",
   "execution_count": null,
   "id": "95216784",
   "metadata": {},
   "outputs": [],
   "source": [
    "X_train, X_test, y_train, y_test = train_test_split(X_rus, y_rus, test_size=0.3, random_state=42)"
   ]
  },
  {
   "cell_type": "markdown",
   "id": "228788cb",
   "metadata": {},
   "source": [
    "## Finding our Base Model"
   ]
  },
  {
   "cell_type": "code",
   "execution_count": null,
   "id": "eeabc5b7",
   "metadata": {},
   "outputs": [],
   "source": [
    "models = {\"Logistic Regression\": LogisticRegression(), \"Random Forest\": RandomForestClassifier(),\n",
    "         \"KNN\": KNeighborsClassifier(), \"AdaBoost\": AdaBoostClassifier()}\n",
    "\n",
    "cv = KFold(n_splits=10)\n",
    "import time\n",
    "\n",
    "def fit_and_score(models, X_train, X_test, y_train, y_test):\n",
    "    model_scores = {}\n",
    "    model_roc_auc_scores = {}\n",
    "    model_time = {}\n",
    "    for name, model in models.items():\n",
    "        start = time.process_time()\n",
    "        model.fit(X_train, y_train)\n",
    "        model_time[name] = time.process_time() - start\n",
    "        scores = cross_val_score(model, X_train, y_train, scoring='roc_auc', cv=cv, n_jobs=-1)\n",
    "        model_roc_auc_scores[name] = roc_auc_score(y_test, model.predict_proba(X_test)[:,1])\n",
    "        model_scores[name] = model.score(X_test, y_test)\n",
    "    return model_scores, model_roc_auc_scores, model_time"
   ]
  },
  {
   "cell_type": "code",
   "execution_count": null,
   "id": "0de09789",
   "metadata": {},
   "outputs": [],
   "source": [
    "model_scores, model_roc_auc_scores, model_time = fit_and_score(models, X_train, X_test, y_train, y_test)\n",
    "print(\"ACCURACIES : \")\n",
    "model_scores"
   ]
  },
  {
   "cell_type": "code",
   "execution_count": null,
   "id": "caa589d4",
   "metadata": {},
   "outputs": [],
   "source": [
    "print(\"ROC AUC SCORES : \")\n",
    "model_roc_auc_scores"
   ]
  },
  {
   "cell_type": "code",
   "execution_count": null,
   "id": "c30e5f88",
   "metadata": {},
   "outputs": [],
   "source": [
    "print(\"Time : \")\n",
    "model_time"
   ]
  },
  {
   "cell_type": "code",
   "execution_count": null,
   "id": "91ea4721",
   "metadata": {},
   "outputs": [],
   "source": [
    "model_compare = pd.DataFrame(model_scores, index=['ROC AUC Score'])\n",
    "model_compare.T.plot.bar();"
   ]
  },
  {
   "cell_type": "markdown",
   "id": "833f4ffa",
   "metadata": {},
   "source": [
    "Seeing the above, we use the Random Forest classifier.\n",
    "\n",
    "## Training an Random Forest Classifier"
   ]
  },
  {
   "cell_type": "code",
   "execution_count": null,
   "id": "afe9f13a",
   "metadata": {},
   "outputs": [],
   "source": [
    "clf = RandomForestClassifier()\n",
    "clf.fit(X_train, y_train)\n",
    "clf.score(X_test, y_test)"
   ]
  },
  {
   "cell_type": "markdown",
   "id": "33d057a8",
   "metadata": {},
   "source": [
    "## Evaluating a model"
   ]
  },
  {
   "cell_type": "code",
   "execution_count": null,
   "id": "1e5a727e",
   "metadata": {},
   "outputs": [],
   "source": [
    "plot_roc_curve(clf, X_test, y_test)"
   ]
  },
  {
   "cell_type": "code",
   "execution_count": null,
   "id": "e3f5f543",
   "metadata": {},
   "outputs": [],
   "source": [
    "y_preds = clf.predict(X_test)\n",
    "conf_mat = confusion_matrix(y_test, y_preds)\n",
    "sns.heatmap(conf_mat, annot=True);"
   ]
  },
  {
   "cell_type": "code",
   "execution_count": null,
   "id": "d6cf7f7a",
   "metadata": {},
   "outputs": [],
   "source": [
    "print(classification_report(y_test, y_preds))"
   ]
  },
  {
   "cell_type": "code",
   "execution_count": null,
   "id": "911bf964",
   "metadata": {},
   "outputs": [],
   "source": [
    "average_precision = average_precision_score(y_test, clf.predict_proba(X_test)[:,1])\n",
    "print('Average precision-recall score: {0:0.2f}'.format(average_precision))"
   ]
  },
  {
   "cell_type": "code",
   "execution_count": null,
   "id": "d502a91e",
   "metadata": {},
   "outputs": [],
   "source": [
    "disp = plot_precision_recall_curve(clf, X_test, y_test)\n",
    "disp.ax_.set_title('Precision-Recall curve: '\n",
    "                   'AP={0:0.2f}'.format(average_precision));"
   ]
  }
 ],
 "metadata": {
  "kernelspec": {
   "display_name": "Python 3 (ipykernel)",
   "language": "python",
   "name": "python3"
  },
  "language_info": {
   "codemirror_mode": {
    "name": "ipython",
    "version": 3
   },
   "file_extension": ".py",
   "mimetype": "text/x-python",
   "name": "python",
   "nbconvert_exporter": "python",
   "pygments_lexer": "ipython3",
   "version": "3.10.9"
  }
 },
 "nbformat": 4,
 "nbformat_minor": 5
}
